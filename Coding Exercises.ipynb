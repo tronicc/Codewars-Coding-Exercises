{
 "cells": [
  {
   "cell_type": "code",
   "execution_count": 18,
   "metadata": {},
   "outputs": [],
   "source": [
    "import numpy as np\n",
    "import string \n",
    "import re\n",
    "import functools"
   ]
  },
  {
   "cell_type": "code",
   "execution_count": 8,
   "metadata": {},
   "outputs": [],
   "source": [
    "'''\n",
    "Write a function that accepts a square \n",
    "matrix (N x N 2D array) and returns the \n",
    "determinant of the matrix.\n",
    "'''\n",
    "\n",
    "def determinant(matrix):\n",
    "    try:\n",
    "        return int(np.around(np.linalg.det(matrix)))\n",
    "    except: \n",
    "        return np.array(matrix)"
   ]
  },
  {
   "cell_type": "code",
   "execution_count": 10,
   "metadata": {},
   "outputs": [
    {
     "data": {
      "text/plain": [
       "2060"
      ]
     },
     "execution_count": 10,
     "metadata": {},
     "output_type": "execute_result"
    }
   ],
   "source": [
    "B =[[2, 5, 3, 6, 3], [17, 5, 7, 4, 2], [7, 8, 5, 3, 2], \n",
    "    [9, 4, -6, 8, 3], [2, -5, 7, 4, 2]]\n",
    "determinant([B])"
   ]
  },
  {
   "cell_type": "code",
   "execution_count": 15,
   "metadata": {},
   "outputs": [],
   "source": [
    "'''\n",
    "Given an array of integers, find the one \n",
    "that appears an odd number of times.\n",
    "\n",
    "There will always be only one integer that \n",
    "appears an odd number of times.\n",
    "'''\n",
    "\n",
    "def find_it(seq):\n",
    "    d = {}\n",
    "    for val in seq:\n",
    "        if val in d:\n",
    "            d[val] += 1\n",
    "        else:\n",
    "            d[val] = 1\n",
    "    for key, val in d.items():\n",
    "        if val % 2 == 1:\n",
    "            return key"
   ]
  },
  {
   "cell_type": "code",
   "execution_count": 17,
   "metadata": {},
   "outputs": [
    {
     "data": {
      "text/plain": [
       "1"
      ]
     },
     "execution_count": 17,
     "metadata": {},
     "output_type": "execute_result"
    }
   ],
   "source": [
    "seq = [1,1,1,2,3,4,5,6]\n",
    "find_it(seq)"
   ]
  },
  {
   "cell_type": "code",
   "execution_count": 19,
   "metadata": {},
   "outputs": [
    {
     "data": {
      "text/plain": [
       "43466557686937456435688527675040625802564660517371780402481729089536555417949051890403879840079255169295922593080322634775209689623239873322471161642996440906533187938298969649928516003704476137795166849228875"
      ]
     },
     "execution_count": 19,
     "metadata": {},
     "output_type": "execute_result"
    }
   ],
   "source": [
    "'''\n",
    "For this particular Kata we want to implement the \n",
    "memoization Fibonacci solution. This will be cool because it will \n",
    "let us keep using the tree recursion algorithm while still \n",
    "keeping it sufficiently optimized to get an answer very rapidly.\n",
    "'''\n",
    "\n",
    "@functools.lru_cache(maxsize=None) #128 by default\n",
    "def fibonacci(num):\n",
    "    if num < 2:\n",
    "        return num\n",
    "    else:\n",
    "        return fibonacci(num-1) + fibonacci(num-2)\n",
    "fibonacci(1000)"
   ]
  },
  {
   "cell_type": "code",
   "execution_count": 20,
   "metadata": {},
   "outputs": [
    {
     "data": {
      "text/plain": [
       "['ab', 'c_']"
      ]
     },
     "execution_count": 20,
     "metadata": {},
     "output_type": "execute_result"
    }
   ],
   "source": [
    "'''\n",
    "Complete the solution so that it splits the string \n",
    "into pairs of two characters. If the string contains \n",
    "an odd number of characters then it should replace the missing second \n",
    "character of the final pair with an underscore ('_').\n",
    "'''\n",
    "\n",
    "\n",
    "def solution(txt):\n",
    "    n = 2\n",
    "    s = np.arange(0, len(txt),n)\n",
    "    \n",
    "    if len(txt) % 2 == 1:\n",
    "        lst = [txt[i:i+n] for i in s]\n",
    "        lst[-1] = lst[-1] + '_'\n",
    "        return lst\n",
    "    elif len(txt) % 2 == 0:\n",
    "        return [txt[i:i+n] for i in s]\n",
    "solution('abc') # should return ['ab', 'c_']\n"
   ]
  },
  {
   "cell_type": "code",
   "execution_count": 21,
   "metadata": {},
   "outputs": [],
   "source": [
    "'''\n",
    "Write a function that accepts two square (NxN) matrices \n",
    "(two dimensional arrays), and returns the product of the two. \n",
    "Only square matrices will be given.\n",
    "'''\n",
    "def matrix_mult(a, b):\n",
    "    return np.dot(a,b).tolist()"
   ]
  },
  {
   "cell_type": "code",
   "execution_count": 23,
   "metadata": {},
   "outputs": [
    {
     "data": {
      "text/plain": [
       "[1, 3]"
      ]
     },
     "execution_count": 23,
     "metadata": {},
     "output_type": "execute_result"
    }
   ],
   "source": [
    "'''\n",
    "Write a function that takes an array of numbers (integers for the tests) and a target number. \n",
    "It should find two different items in the array that, when added together, give the target value. \n",
    "The indices of these items should then be returned in a tuple like so: (index1, index2).\n",
    "\n",
    "For the purposes of this kata, some tests may have \n",
    "multiple answers; any valid solutions will be accepted.\n",
    "'''\n",
    "\n",
    "\n",
    "def two_sum(a,target):\n",
    "    for i in np.arange(1,len(a)):\n",
    "        for j in np.arange(1,len(a)):\n",
    "            if a[i] + a[j-1] == target and j-1 < i:\n",
    "                return[j-1,i]\n",
    "two_sum([1,3,4,5],8)"
   ]
  },
  {
   "cell_type": "code",
   "execution_count": 26,
   "metadata": {},
   "outputs": [
    {
     "data": {
      "text/plain": [
       "'20 8 5 19 21 14 19 5 20 19 5 20 19 1 20 20 23 5 12 22 5 15 3 12 15 3 11'"
      ]
     },
     "execution_count": 26,
     "metadata": {},
     "output_type": "execute_result"
    }
   ],
   "source": [
    "'''\n",
    "In this kata you are required to, given a string, \n",
    "replace every letter with its position in the alphabet.\n",
    "\n",
    "If anything in the text isn't a letter,\n",
    "ignore it and don't return it.\n",
    "'''\n",
    "\n",
    "d = dict.fromkeys(string.ascii_lowercase, 0)\n",
    "i = 1\n",
    "for key in d:\n",
    "    d[key] += i\n",
    "    i += 1\n",
    "\n",
    "def alphabet_position(text):\n",
    "    ns = ''\n",
    "    text = re.sub(r'[^\\w\\s]', '', text)\n",
    "    text = text.replace(' ', '').lower()\n",
    "    for i in np.arange(0,len(text)):\n",
    "        ns += str(d[text[i]]) + ' '\n",
    "    return ns.rstrip()\n",
    "alphabet_position(\"The sunset sets at twelve o' clock.\")\n"
   ]
  },
  {
   "cell_type": "code",
   "execution_count": 29,
   "metadata": {},
   "outputs": [
    {
     "data": {
      "text/plain": [
       "[['2d', '2d'], ['2d', '2d'], ['2d', '2d']]"
      ]
     },
     "execution_count": 29,
     "metadata": {},
     "output_type": "execute_result"
    }
   ],
   "source": [
    "'''\n",
    "Create the function prefill that returns an \n",
    "array of n elements that all have the same value v. \n",
    "See if you can do this without using a loop.\n",
    "\n",
    "You have to validate input:\n",
    "\n",
    "v can be anything (primitive or otherwise)\n",
    "if v is ommited, fill the array with undefined\n",
    "if n is 0, return an empty array\n",
    "if n is anything other than an integer or \n",
    "integer-formatted string (e.g. '123') that is >=0, throw a TypeError\n",
    "\n",
    "'''\n",
    "def strArr(n,v):\n",
    "    return [v for i in np.arange(int(n))]\n",
    "def prefill(n,v = None):\n",
    "    n = str(n)\n",
    "    if n.isdecimal() and v !=0:\n",
    "        n = int(n)\n",
    "        if n == 0:\n",
    "            return []\n",
    "        else:\n",
    "            return strArr(n,v)\n",
    "    if n.isdecimal and v == 0:\n",
    "        return strArr(n,'undefined')\n",
    "prefill(3, prefill(2,'2d'))"
   ]
  },
  {
   "cell_type": "code",
   "execution_count": 30,
   "metadata": {},
   "outputs": [],
   "source": [
    "'''\n",
    "Complete the function that\n",
    "\n",
    "accepts two integer arrays of equal length\n",
    "compares the value each member in one array to the corresponding member in the other\n",
    "squares the absolute value difference between those two values\n",
    "and returns the average of those squared absolute value difference between each member pair.\n",
    "\n",
    "'''\n",
    "def mse(array_a, array_b):\n",
    "    return np.sum(np.abs(np.array(array_b)-np.array(array_a))**2)/len(array_a)"
   ]
  },
  {
   "cell_type": "code",
   "execution_count": 32,
   "metadata": {},
   "outputs": [
    {
     "data": {
      "text/plain": [
       "'camel Casing'"
      ]
     },
     "execution_count": 32,
     "metadata": {},
     "output_type": "execute_result"
    }
   ],
   "source": [
    "'''\n",
    "Find a solution so that the function will break \n",
    "up camel casing,using a space between words.\n",
    "'''\n",
    "\n",
    "def breakcamelCase(s):\n",
    "    temp = re.findall(\"([a-zA-Z][^A-Z]*)\", s)\n",
    "    return ' '.join(temp)\n",
    "breakcamelCase(\"camelCasing\") "
   ]
  },
  {
   "cell_type": "code",
   "execution_count": 33,
   "metadata": {},
   "outputs": [
    {
     "data": {
      "text/plain": [
       "False"
      ]
     },
     "execution_count": 33,
     "metadata": {},
     "output_type": "execute_result"
    }
   ],
   "source": [
    "'''\n",
    "Define a function that takes one integer argument and \n",
    "returns logical value true or false depending on if\n",
    "the integer is a prime.\n",
    "\n",
    "Requirements\n",
    "\n",
    "You can assume you will be given an integer input.\n",
    "You can not assume that the integer will be only positive. \n",
    "You may be given negative numbers as well (or 0).\n",
    "NOTE on performance: \n",
    "There are no fancy optimizations required, \n",
    "but still the most trivial solutions might time out. \n",
    "Numbers go up to 2^31 (or similar, depends on language version). \n",
    "Looping all the way up to n, or n/2, will be too slow.\n",
    "'''\n",
    "\n",
    "def is_prime(n):\n",
    "    isprime = True\n",
    "    nsq = np.sqrt(n)\n",
    "\n",
    "    if n == 1 or n==0 or n<0:\n",
    "        return isprime == False\n",
    "    \n",
    "    if n%2 == 0 or n%3 == 0 or n%5 == 0:\n",
    "        if n!=2 and n!=3 and n!=5:\n",
    "            isprime = False\n",
    "    else:\n",
    "        \n",
    "        kmax = 0\n",
    "        if n>=49 and n<121:\n",
    "            kmax = int(np.floor((nsq-1.)/6.))\n",
    "        elif n>=121:\n",
    "            kmax = int(np.floor((nsq-5.)/6.))\n",
    "        if kmax > 0:\n",
    "            for kk in range(0,kmax+1):\n",
    "                tstnmbr = 6*(kk+1)+1\n",
    "                if n%tstnmbr == 0: \n",
    "                    isprime = False \n",
    "                    break\n",
    "                else:\n",
    "                    tstnmbr = 6*(kk+1)+5\n",
    "                    if tstnmbr <= nsq:\n",
    "                        if n%tstnmbr == 0:\n",
    "                            isprime = False \n",
    "                            break\n",
    "    \n",
    "    return isprime\n",
    "is_prime(2134392352)"
   ]
  },
  {
   "cell_type": "code",
   "execution_count": 34,
   "metadata": {},
   "outputs": [
    {
     "data": {
      "text/plain": [
       "['airplane', 'airport']"
      ]
     },
     "execution_count": 34,
     "metadata": {},
     "output_type": "execute_result"
    }
   ],
   "source": [
    "'''\n",
    "It's time to create an autocomplete function! Yay!\n",
    "\n",
    "The autocomplete function will take in an input string and a \n",
    "dictionary array and return the values from \n",
    "the dictionary that start with the input string. \n",
    "If there are more than 5 matches, restrict your output \n",
    "to the first 5 results. If there are no matches, return \n",
    "an empty array.\n",
    "\n",
    "\n",
    "For this kata, the dictionary will always be a valid array of strings. Please return all results in the order \n",
    "given in the dictionary, even if they're not always alphabetical. \n",
    "The search should NOT be case sensitive, but the case of the word should be preserved when it's returned.\n",
    "\n",
    "For example, \"Apple\" and \"airport\" would both return for an input of 'a'. \n",
    "However, they should return as \"Apple\" and \"airport\" in their original cases.\n",
    "'''\n",
    "\n",
    "def autocomplete(input_, dictionary):\n",
    "    input_ = re.sub('[^A-Za-z]+', '', input_)\n",
    "    matches = [s for s in dictionary if (s.lower().startswith(input_))]\n",
    "    return matches[:5]\n",
    "autocomplete('ai', ['airplane','airport','apple','ball']) "
   ]
  },
  {
   "cell_type": "code",
   "execution_count": 47,
   "metadata": {},
   "outputs": [
    {
     "data": {
      "text/plain": [
       "[[1, 2, 3, 4, 5],\n",
       " [2, 4, 6, 8, 10],\n",
       " [3, 6, 9, 12, 15],\n",
       " [4, 8, 12, 16, 20],\n",
       " [5, 10, 15, 20, 25]]"
      ]
     },
     "execution_count": 47,
     "metadata": {},
     "output_type": "execute_result"
    }
   ],
   "source": [
    "'''\n",
    "Your task, is to create NxN multiplication table, \n",
    "of size provided in parameter.\n",
    "\n",
    "for example, when given size is 3:\n",
    "'''\n",
    "def multiplication_table(n):\n",
    "    x = np.arange(1,n+1)\n",
    "    return np.outer(x,x).tolist()\n",
    "multiplication_table(5)"
   ]
  },
  {
   "cell_type": "code",
   "execution_count": 48,
   "metadata": {},
   "outputs": [
    {
     "data": {
      "text/plain": [
       "[4, 2, 1]"
      ]
     },
     "execution_count": 48,
     "metadata": {},
     "output_type": "execute_result"
    }
   ],
   "source": [
    "'''\n",
    "Given an array of integers of any length, \n",
    "return an array that has 1 added to the value represented by the array.\n",
    "\n",
    "the array can't be empty\n",
    "only non-negative, single digit integers are allowed\n",
    "Return nil (or your language's equivalent) for invalid inputs.\n",
    "'''\n",
    "def up_array(arr):\n",
    "    if not arr or min(arr) < 0 or max(arr) > 9:\n",
    "        return None\n",
    "    else:\n",
    "        return [int(y) for y in str(int(\"\".join([str(x) for x in arr])) + 1)]\n",
    "up_array([4,2,0])"
   ]
  },
  {
   "cell_type": "code",
   "execution_count": 51,
   "metadata": {},
   "outputs": [
    {
     "data": {
      "text/plain": [
       "{'H': 1, 'e': 1, 'l': 3, 'o': 2, ',': 1, ' ': 1, 'w': 1, 'r': 1, 'd': 1}"
      ]
     },
     "execution_count": 51,
     "metadata": {},
     "output_type": "execute_result"
    }
   ],
   "source": [
    "'''\n",
    "Given an array of integers of any length, \n",
    "return an array that has 1 added to the value represented by the array.\n",
    "\n",
    "the array can't be empty\n",
    "only non-negative, single digit integers are allowed\n",
    "Return nil (or your language's equivalent) for invalid inputs.\n",
    "'''\n",
    "\n",
    "def count(string):\n",
    "    dict = {}\n",
    "    if string == '':\n",
    "        return {}\n",
    "    else:\n",
    "        for char in string:\n",
    "            if char in dict:\n",
    "                dict[char] += 1\n",
    "            else:\n",
    "                dict[char] = 1\n",
    "        return dict\n",
    "count('Hello, world')"
   ]
  },
  {
   "cell_type": "code",
   "execution_count": 53,
   "metadata": {},
   "outputs": [],
   "source": [
    "'''\n",
    "Given two arrays a and b write a function comp(a, b) (orcompSame(a, b)) that checks whether \n",
    "the two arrays have the \"same\" elements, with the same \n",
    "multiplicities. \"Same\" means, here, that the elements \n",
    "in b are the elements in a squared, regardless of the order.\n",
    "'''\n",
    "def comp(array1, array2):\n",
    "    return  None not in (array1,array2)  and np.array_equal(np.sort(np.array(array1)**2),np.sort(array2))"
   ]
  },
  {
   "cell_type": "code",
   "execution_count": 55,
   "metadata": {},
   "outputs": [
    {
     "data": {
      "text/plain": [
       "False"
      ]
     },
     "execution_count": 55,
     "metadata": {},
     "output_type": "execute_result"
    }
   ],
   "source": [
    "comp([121, 144, 19, 161, 19, 144, 19, 11] ,\n",
    "[121, 14641, 20736, 36100, 25921, 361, 20736, 361]\n",
    ")"
   ]
  },
  {
   "cell_type": "code",
   "execution_count": 57,
   "metadata": {},
   "outputs": [
    {
     "data": {
      "text/plain": [
       "True"
      ]
     },
     "execution_count": 57,
     "metadata": {},
     "output_type": "execute_result"
    }
   ],
   "source": [
    "'''\n",
    "A pangram is a sentence that contains every single letter of the alphabet at least once. \n",
    "For example, the sentence \"The quick brown fox jumps over the lazy dog\" is a pangram, \n",
    "because it uses the letters A-Z at least once (case is irrelevant).\n",
    "\n",
    "Given a string, detect whether or not it is a pangram. \n",
    "Return True if it is, False if not. Ignore numbers and punctuation.\n",
    "\n",
    "'''\n",
    "\n",
    "def is_pangram(s):\n",
    "    alphabet = dict.fromkeys(string.ascii_lowercase, 0)\n",
    "    s = s.translate(str.maketrans('', '', string.punctuation)).lower()\n",
    "    for char in s:\n",
    "        if char in alphabet:\n",
    "            alphabet[char] += 1\n",
    "    if  all(value >= 1  for value in alphabet.values()): #all returns False on the first falsy value it encounters\n",
    "        return True\n",
    "    else:\n",
    "        return False\n",
    "is_pangram('The quick brown fox jumps over the lazy dog')"
   ]
  },
  {
   "cell_type": "code",
   "execution_count": 64,
   "metadata": {},
   "outputs": [
    {
     "data": {
      "text/plain": [
       "87"
      ]
     },
     "execution_count": 64,
     "metadata": {},
     "output_type": "execute_result"
    }
   ],
   "source": [
    "'''\n",
    "\"A divisibility rule is a shorthand way of determining whether a given integer is divisible \n",
    "by a fixed divisor without performing the division, usually by examining its digits.\"\n",
    "'''\n",
    "\n",
    "def thirt(n):\n",
    "    seq = [1, 10, 9, 12, 3, 4]\n",
    "    tot = 0\n",
    "\n",
    "    while True:\n",
    "        current_tot = 0\n",
    "        for index, digit in enumerate(str(n)[::-1]):\n",
    "            current_index = index % len(seq)\n",
    "            current_tot += int(digit) * seq[current_index]\n",
    "\n",
    "        if tot == current_tot:\n",
    "            return tot\n",
    "\n",
    "        tot = current_tot\n",
    "        n = current_tot\n",
    "thirt(1234567)"
   ]
  },
  {
   "cell_type": "code",
   "execution_count": 66,
   "metadata": {},
   "outputs": [
    {
     "data": {
      "text/plain": [
       "51"
      ]
     },
     "execution_count": 66,
     "metadata": {},
     "output_type": "execute_result"
    }
   ],
   "source": [
    "'''\n",
    "Some numbers have funny properties. For example:\n",
    "\n",
    "89 --> 8¹ + 9² = 89 * 1\n",
    "\n",
    "695 --> 6² + 9³ + 5⁴= 1390 = 695 * 2\n",
    "\n",
    "46288 --> 4³ + 6⁴+ 2⁵ + 8⁶ + 8⁷ = 2360688 = 46288 * 51\n",
    "\n",
    "Given a positive integer n written as abcd... (a, b, c, d... being digits) and a positive integer p\n",
    "\n",
    "we want to find a positive integer k, if it exists, such as the sum of the digits of n taken to the successive powers of p is equal to k * n.\n",
    "In other words:\n",
    "\n",
    "Is there an integer k such as : (a ^ p + b ^ (p+1) + c ^(p+2) + d ^ (p+3) + ...) = n * k\n",
    "\n",
    "If it is the case we will return k, if not return -1.\n",
    "\n",
    "Note: n and p will always be given as strictly positive integers.\n",
    "\n",
    "\n",
    "'''\n",
    "def dig_pow(n, p):\n",
    "    tot = 0\n",
    "    soln = 0\n",
    "    for num in str(n):\n",
    "        tot += int(num)**p #could be simplified, less roundabout \n",
    "        p += 1\n",
    "    if tot % int(n) == 0:\n",
    "        soln = int(tot/int(n))\n",
    "        return soln\n",
    "    else:\n",
    "        return -1\n",
    "dig_pow(46288,3)"
   ]
  },
  {
   "cell_type": "code",
   "execution_count": 70,
   "metadata": {},
   "outputs": [
    {
     "data": {
      "text/plain": [
       "False"
      ]
     },
     "execution_count": 70,
     "metadata": {},
     "output_type": "execute_result"
    }
   ],
   "source": [
    "'''\n",
    "In this example you have to validate if \n",
    "a user input string is alphanumeric. \n",
    "The given string is not nil/null/NULL/None, \n",
    "so you don't have to check that.\n",
    "\n",
    "The string has the following conditions to \n",
    "be alphanumeric:\n",
    "\n",
    "At least one character (\"\" is not valid)\n",
    "Allowed characters are uppercase / lowercase latin \n",
    "letters and digits from 0 to 9\n",
    "No whitespaces / underscore\n",
    "'''\n",
    "check_vals = string.ascii_lowercase + string.ascii_uppercase + string.digits\n",
    "def alphanumeric(password):\n",
    "    if password == \"\":\n",
    "        return False\n",
    "    if password.replace(\" \",\"1\") != password:\n",
    "        return False\n",
    "    else:\n",
    "        for char in password:\n",
    "            if char not in check_vals:\n",
    "                return False\n",
    "        return True\n",
    "alphanumeric('Xersniaf_!@4@f555')"
   ]
  },
  {
   "cell_type": "code",
   "execution_count": 73,
   "metadata": {},
   "outputs": [
    {
     "data": {
      "text/plain": [
       "6"
      ]
     },
     "execution_count": 73,
     "metadata": {},
     "output_type": "execute_result"
    }
   ],
   "source": [
    "'''\n",
    "The maximum sum subarray problem consists \n",
    "in finding the maximum sum of a contiguous \n",
    "subsequence in an array or list of integers:\n",
    "\n",
    "Easy case is when the list is made up of only \n",
    "positive numbers and the maximum sum is the \n",
    "sum of the whole array. \n",
    "If the list is made up of only negative numbers, \n",
    "return 0 instead.\n",
    "\n",
    "Empty list is considered to have zero greatest sum. \n",
    "Note that the empty list or array is \n",
    "also a valid sublist/subarray.\n",
    "'''\n",
    "\n",
    "def max_sequence(arr):\n",
    "    max_sum = 0\n",
    "    if len(arr) == 0:\n",
    "        return 0\n",
    "    else:\n",
    "        for i in np.arange(0,len(arr)):\n",
    "            for j in np.arange(len(arr),0,-1):\n",
    "                if sum(arr[i:j]) >= max_sum:\n",
    "                    max_sum = sum(arr[i:j])\n",
    "        return max_sum\n",
    "max_sequence([-2, 1, -3, 4, -1, 2, 1, -5, 4])\n",
    "# should be 6: [4, -1, 2, 1]"
   ]
  },
  {
   "cell_type": "code",
   "execution_count": 75,
   "metadata": {},
   "outputs": [
    {
     "data": {
      "text/plain": [
       "'#HelloThereThanksForTryingMyKata'"
      ]
     },
     "execution_count": 75,
     "metadata": {},
     "output_type": "execute_result"
    }
   ],
   "source": [
    "'''\n",
    "The marketing team is spending way too much \n",
    "time typing in hashtags.\n",
    "Let's help them with our own Hashtag Generator!\n",
    "\n",
    "Here's the deal:\n",
    "\n",
    "It must start with a hashtag (#).\n",
    "All words must have their first letter capitalized.\n",
    "If the final result is longer than 140 chars \n",
    "it must return false.\n",
    "If the input or the result is an empty \n",
    "string it must return false.\n",
    "'''\n",
    "\n",
    "def remove(string): \n",
    "    return string.replace(\" \", \"\") \n",
    "def generate_hashtag(s):\n",
    "    if len(s) < 140 and (len(s) > 0):\n",
    "        s_n = s.title()\n",
    "        return '#' + remove(s_n)\n",
    "    elif len(s) > 140 or len(s) == 0:\n",
    "        return False\n",
    "generate_hashtag(' Hello there thanks for trying my Kata')"
   ]
  },
  {
   "cell_type": "code",
   "execution_count": 80,
   "metadata": {},
   "outputs": [
    {
     "data": {
      "text/plain": [
       "'MXXIII'"
      ]
     },
     "execution_count": 80,
     "metadata": {},
     "output_type": "execute_result"
    }
   ],
   "source": [
    "'''\n",
    "Create a function taking a positive integer \n",
    "as its parameter and returning a string containing \n",
    "the Roman Numeral representation of that integer.\n",
    "\n",
    "Modern Roman numerals are written by expressing each \n",
    "digit separately starting with the left most digit \n",
    "and skipping any digit with a value of zero. \n",
    "In Roman numerals 1990 is rendered: 1000=M, 900=CM, 90=XC; \n",
    "resulting in MCMXC. 2008 is written as 2000=MM, 8=VIII; or MMVIII. \n",
    "1666 uses each Roman symbol in descending order: MDCLXVI.\n",
    "'''\n",
    "\n",
    "ten  = {'0': '', '1' : 'X', '2' : 'XX', '3' : 'XXX', '4' : 'XL', '5': 'L'\n",
    "         , '6': 'LX', '7': 'LXX', '8': 'LXXX', '9': 'XC'\n",
    "         }\n",
    "hundreds  = {'0': '', '1' : 'C', '2' : 'CC', '3' : 'CCC', '4' : 'CD', '5': 'D'\n",
    "         , '6': 'DC', '7': 'DCC', '8': 'DCCC', '9': 'CM'\n",
    "         }\n",
    "units  = {'0': '', '1' : 'I', '2' : 'II', '3' : 'III', '4' : 'IV', '5': 'V'\n",
    "         , '6': 'VI', '7': 'VII', '8': 'VIII', '9': 'IX'\n",
    "         }\n",
    "\n",
    "\n",
    "thousands  = {'1' : 'M', '2' : 'MM', '3' : 'MMM'}\n",
    "def rNum(n):\n",
    "    final_str = ''\n",
    "    s_n = str(n)\n",
    "    \n",
    "    if len(s_n) == 1:\n",
    "        for char in s_n:\n",
    "            final_str += (units[char])\n",
    "    elif len(s_n) == 2:\n",
    "        final_str = ten[s_n[0]] + units[s_n[1]]\n",
    "    elif len(s_n) == 3:\n",
    "        final_str = hundreds[s_n[0]] + ten[s_n[1]] + units[s_n[2]]\n",
    "    elif len(s_n) == 4:\n",
    "        final_str = thousands[s_n[0]] +hundreds[s_n[1]] + ten[s_n[2]] + units[s_n[3]]\n",
    "    return final_str\n",
    "rNum(1023)"
   ]
  },
  {
   "cell_type": "code",
   "execution_count": 82,
   "metadata": {},
   "outputs": [
    {
     "data": {
      "text/plain": [
       "160"
      ]
     },
     "execution_count": 82,
     "metadata": {},
     "output_type": "execute_result"
    }
   ],
   "source": [
    "'''\n",
    "You are given an array (which will have a \n",
    "length of at least 3, but could be very large) containing integers. \n",
    "The array is either entirely comprised of odd integers \n",
    "or entirely comprised of even integers except for a \n",
    "single integer N. \n",
    "Write a method that takes the array \n",
    "as an argument and returns this \"outlier\" N.\n",
    "'''\n",
    "\n",
    "def find_outlier(integers):\n",
    "    even = []\n",
    "    odd = []\n",
    "    for num in integers:\n",
    "        if num % 2 == 0:\n",
    "            even.append(num)\n",
    "        elif num % 2 == 1:\n",
    "            odd.append(num)\n",
    "    if len(even) > len(odd):\n",
    "        return odd[0]\n",
    "    else:\n",
    "        return even[0]\n",
    "find_outlier([160, 3, 1719, 19, 11, 13, -21])"
   ]
  },
  {
   "cell_type": "code",
   "execution_count": null,
   "metadata": {},
   "outputs": [],
   "source": []
  }
 ],
 "metadata": {
  "kernelspec": {
   "display_name": "Python 3",
   "language": "python",
   "name": "python3"
  },
  "language_info": {
   "codemirror_mode": {
    "name": "ipython",
    "version": 3
   },
   "file_extension": ".py",
   "mimetype": "text/x-python",
   "name": "python",
   "nbconvert_exporter": "python",
   "pygments_lexer": "ipython3",
   "version": "3.7.3"
  }
 },
 "nbformat": 4,
 "nbformat_minor": 2
}
